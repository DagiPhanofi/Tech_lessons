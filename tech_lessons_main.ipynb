{
 "cells": [
  {
   "cell_type": "markdown",
   "metadata": {},
   "source": [
    "# <a id='toc1_'></a>[Course Title: Tech Innovators](#toc0_)"
   ]
  },
  {
   "cell_type": "markdown",
   "metadata": {},
   "source": [
    "#### <a id='toc1_1_1_1_'></a>[A Comprehensive Guide to Software and Hardware Development for Teens.](#toc0_)"
   ]
  },
  {
   "cell_type": "markdown",
   "metadata": {},
   "source": [
    "**Table of contents**<a id='toc0_'></a>    \n",
    "  - [Course Objectives](#toc1_1_2_)    \n",
    "  - [Course overview](#toc1_1_3_)    \n",
    "  - [Who should Enroll:](#toc1_1_4_)    \n",
    "  - [Practical information](#toc1_1_5_)    \n",
    "  - [Contact](#toc1_1_6_)    \n",
    "  - [Interested in teaching these topics?](#toc1_1_7_)    \n",
    "\n",
    "<!-- vscode-jupyter-toc-config\n",
    "\tnumbering=false\n",
    "\tanchor=true\n",
    "\tflat=false\n",
    "\tminLevel=1\n",
    "\tmaxLevel=6\n",
    "\t/vscode-jupyter-toc-config -->\n",
    "<!-- THIS CELL WILL BE REPLACED ON TOC UPDATE. DO NOT WRITE YOUR TEXT IN THIS CELL -->"
   ]
  },
  {
   "cell_type": "markdown",
   "metadata": {},
   "source": [
    "### <a id='toc1_1_2_'></a>[Course Objectives](#toc0_)\n",
    "- To introduce key enabling skills required for successful educational and industrial career. \n",
    "- Expose our students to various technology topics at early ages\n",
    "- Help students to find their own interest and persue their passion with informed early decisions."
   ]
  },
  {
   "cell_type": "markdown",
   "metadata": {},
   "source": [
    "### <a id='toc1_1_3_'></a>[Course overview](#toc0_)\n",
    "This comprehensive course is divided into two main sections:\n",
    "\n",
    "A. Software based courses\n",
    "\n",
    "1. [Introduction to programming using Python](./1.Programming_using_python.ipynb)\n",
    "    - Dive into the world of programming with Python, a versatile and beginner-friendly language. Learn the basics of coding, syntax, and problem-solving.\n",
    "2. [Data science using Python](./2.Data_science.ipynb)\n",
    "    - Explore data science concepts and techniques using Python. Understand data analysis, visualization, and the basics of handling large datasets.\n",
    "3. [Machine learning using Python]\n",
    "    - Discover the fundamentals of machine learning and artificial intelligence. Implement simple algorithms and understand how machines learn from data.\n",
    "4. [Web development]\n",
    "    - Learn the essentials of building websites. Gain skills in HTML, CSS, and JavaScript to create interactive and responsive web pages.\n",
    "5. [Software development]\n",
    "    - Understand the software development lifecycle. Learn about version control, debugging, and project management.\n",
    "6. [Opensource software development]\n",
    "    - Explore the world of open-source projects. Learn how to contribute to existing projects and collaborate with the global developer community.\n",
    "7. [Graphics design and 3D animation using Blender]\n",
    "    - Unleash your creativity with Blender. Learn the basics of graphic design, 3D modeling, and animation.\n",
    "8. [Introduction to Game programming]\n",
    "    - Step into the exciting realm of game development. Understand game design principles and create your own simple games.\n",
    "\n",
    "B. Hardware development mini-projects\n",
    "\n",
    "9. Cool photonics home projects\n",
    "    - Experiment with light and optics through fun projects like guiding light using water, manipulating light with lenses, and aligning mirrors in a game format.\n",
    "10. Build your own self-driving (toy) car\n",
    "    - Learn the basics of robotics and automation. Assemble and program a toy car to navigate on its own.\n",
    "11. Make your own printed circuit board (PCB)\n",
    "    - Get hands-on experience in electronics. Design, fabricate, and test your own PCB for various applications.\n",
    "12. Make your own electronic chip \n",
    "    - Delve into the world of microelectronics. Learn the fundamentals of chip design and create a simple electronic chip.\n"
   ]
  },
  {
   "cell_type": "markdown",
   "metadata": {},
   "source": [
    "### <a id='toc1_1_4_'></a>[Who should Enroll:](#toc0_)\n",
    "This course is perfect for teenagers who are passionate about technology, eager to learn coding, and interested in hands-on hardware projects. Whether you're a beginner or have some experience, this course will help you expand your skills and unleash your potential as a tech innovator."
   ]
  },
  {
   "cell_type": "markdown",
   "metadata": {},
   "source": [
    "### <a id='toc1_1_5_'></a>[Practical information](#toc0_)\n",
    "- Lessons will be conducted every two weeks physically.\n",
    "- Location and time will be announced soon.\n",
    "- Personal computer is required for every student.\n",
    "- The courses are taught in English and/or Amharic."
   ]
  },
  {
   "cell_type": "markdown",
   "metadata": {},
   "source": [
    "### <a id='toc1_1_6_'></a>[Contact](#toc0_)\n",
    "Join us on this exciting journey to become a tech innovator and turn your ideas into reality!\n",
    "\n",
    "Please contact Dagmawi for details via email: dagmawi.bekele@outlook.com or tel: +4553760799\n",
    "\n",
    "### <a id='toc1_1_7_'></a>[Interested in teaching these topics?](#toc0_)\n",
    "If you have expertise in one of these topics, and you have interest in teaching and assiting students, please contact us. This would be very helpful.\n"
   ]
  }
 ],
 "metadata": {
  "kernelspec": {
   "display_name": ".venv",
   "language": "python",
   "name": "python3"
  },
  "language_info": {
   "codemirror_mode": {
    "name": "ipython",
    "version": 3
   },
   "file_extension": ".py",
   "mimetype": "text/x-python",
   "name": "python",
   "nbconvert_exporter": "python",
   "pygments_lexer": "ipython3",
   "version": "3.11.4"
  }
 },
 "nbformat": 4,
 "nbformat_minor": 2
}
