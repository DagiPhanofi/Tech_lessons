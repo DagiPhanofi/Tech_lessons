{
 "cells": [
  {
   "cell_type": "markdown",
   "metadata": {},
   "source": [
    "# Tech lessons"
   ]
  },
  {
   "cell_type": "markdown",
   "metadata": {},
   "source": [
    "### Objectives\n",
    "- to introduce key enabling skills required for successful educational and industrial career. \n",
    "- expose our students to various technology topics at early ages\n",
    "- help stuents to find their own interest and persue their passion with informed early decisions."
   ]
  },
  {
   "cell_type": "markdown",
   "metadata": {},
   "source": [
    "### Practical information\n",
    "- Lessons will be conducted every two weeks physically.\n",
    "- Location and time will be announced soon.\n",
    "- Personal computer is required for every student.\n",
    "- The courses in English and Amharic\n",
    "- The courses are only available for students under 18."
   ]
  },
  {
   "cell_type": "markdown",
   "metadata": {},
   "source": [
    "### Contact\n",
    "Please contact Dagmawi for details via email: dagmawi.bekele@outlook.com or tel: +4553760799\n",
    "\n",
    "### Interested in teaching these topics?\n",
    "- If you have expertise in one of these topics and you have interest in teaching, please contact Dagmawi. This would be very helpful.\n"
   ]
  },
  {
   "cell_type": "markdown",
   "metadata": {},
   "source": [
    "### Introduction to programming using Python"
   ]
  },
  {
   "cell_type": "markdown",
   "metadata": {},
   "source": [
    "It can be used for automation, data science, web development. \n",
    "\n",
    "1. Go to www.python.org and download the latest version. \n",
    "    - remember to check the add python to path checkbox. \n",
    "2. Go to code.visualstudio.com, and download the latest visual studio code.\n",
    "3. Install python extension for VS code.\n",
    "4. ctrl + shift + P - and select the \"python interpretor\"\n",
    "\n",
    "5. Create your first python file, and write the following code.\n",
    "\n",
    "\n"
   ]
  },
  {
   "cell_type": "code",
   "execution_count": 1,
   "metadata": {},
   "outputs": [
    {
     "name": "stdout",
     "output_type": "stream",
     "text": [
      "Hello world!\n"
     ]
    }
   ],
   "source": [
    "selamta = 'Hello world!'\n",
    "print (selamta)"
   ]
  },
  {
   "cell_type": "markdown",
   "metadata": {},
   "source": [
    "Like any other language, python has also some grammer (syntax) rules that we should follow. \n",
    "Open terminal and play with the following lines of codes to learn syntax rules of python programming.\n",
    "\n",
    "- terminal --> new terminal, then type py "
   ]
  },
  {
   "cell_type": "markdown",
   "metadata": {},
   "source": [
    "#### python syntax basics"
   ]
  },
  {
   "cell_type": "markdown",
   "metadata": {},
   "source": [
    "1. White spaces or tab (indentation) is required."
   ]
  },
  {
   "cell_type": "code",
   "execution_count": 2,
   "metadata": {},
   "outputs": [
    {
     "name": "stdout",
     "output_type": "stream",
     "text": [
      "Hello from our function\n"
     ]
    }
   ],
   "source": [
    "# defining functions\n",
    "def our_function():\n",
    "    print('Hello from our function')\n",
    "\n",
    "# calling the function\n",
    "our_function()"
   ]
  },
  {
   "cell_type": "markdown",
   "metadata": {},
   "source": [
    "2. Comments: \n",
    "    - to help us remember what we have written. It makes collaboration easier. It is a good practice to implement."
   ]
  },
  {
   "cell_type": "code",
   "execution_count": 9,
   "metadata": {},
   "outputs": [
    {
     "data": {
      "text/plain": [
       "'\\nMultiple line comment can be written like this.\\nIt is typically used for providing descriptions of functions and classes.\\n'"
      ]
     },
     "execution_count": 9,
     "metadata": {},
     "output_type": "execute_result"
    }
   ],
   "source": [
    "# Here is a single line comment\n",
    "\n",
    "\"\"\"\n",
    "Multiple line comment can be written like this.\n",
    "It is typically used for providing descriptions of functions and classes.\n",
    "\"\"\""
   ]
  },
  {
   "cell_type": "markdown",
   "metadata": {},
   "source": [
    "3. Variable decleration "
   ]
  },
  {
   "cell_type": "code",
   "execution_count": 3,
   "metadata": {},
   "outputs": [
    {
     "name": "stdout",
     "output_type": "stream",
     "text": [
      "Dagmawi\n"
     ]
    }
   ],
   "source": [
    "my_name = 'Dagmawi'\n",
    "print(my_name)"
   ]
  },
  {
   "cell_type": "markdown",
   "metadata": {},
   "source": [
    "4. keywords"
   ]
  },
  {
   "cell_type": "code",
   "execution_count": null,
   "metadata": {},
   "outputs": [],
   "source": [
    "\n"
   ]
  },
  {
   "cell_type": "markdown",
   "metadata": {},
   "source": []
  },
  {
   "cell_type": "markdown",
   "metadata": {},
   "source": [
    "### Data science using Python"
   ]
  },
  {
   "cell_type": "code",
   "execution_count": null,
   "metadata": {},
   "outputs": [],
   "source": []
  }
 ],
 "metadata": {
  "kernelspec": {
   "display_name": ".venv",
   "language": "python",
   "name": "python3"
  },
  "language_info": {
   "codemirror_mode": {
    "name": "ipython",
    "version": 3
   },
   "file_extension": ".py",
   "mimetype": "text/x-python",
   "name": "python",
   "nbconvert_exporter": "python",
   "pygments_lexer": "ipython3",
   "version": "3.11.4"
  }
 },
 "nbformat": 4,
 "nbformat_minor": 2
}
