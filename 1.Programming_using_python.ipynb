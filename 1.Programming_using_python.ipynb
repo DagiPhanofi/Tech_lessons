{
 "cells": [
  {
   "cell_type": "markdown",
   "metadata": {},
   "source": [
    "### <a id='toc1_1_5_'></a>[Introduction to programming using Python](#toc0_)"
   ]
  },
  {
   "cell_type": "markdown",
   "metadata": {},
   "source": [
    "It can be used for automation, data science, web development. \n",
    "\n",
    "1. Go to www.python.org and download the latest version. \n",
    "    - remember to check the add python to path checkbox. \n",
    "2. Go to code.visualstudio.com, and download and install the latest visual studio code.\n",
    "3. Install the following  extensions for VS code.\n",
    "    - python\n",
    "    - Jupyter\n",
    "4. ctrl + shift + P - and select the \"python interpretor\"\n",
    "\n",
    "5. Create your first python file, and write the following code.\n",
    "\n",
    "\n"
   ]
  },
  {
   "cell_type": "code",
   "execution_count": null,
   "metadata": {},
   "outputs": [
    {
     "name": "stdout",
     "output_type": "stream",
     "text": [
      "Hello world!\n"
     ]
    }
   ],
   "source": [
    "selamta = 'Hello world!'\n",
    "print (selamta)"
   ]
  },
  {
   "cell_type": "markdown",
   "metadata": {},
   "source": [
    "Like any other language, python has also some grammer (syntax) rules that we should follow. \n",
    "Open terminal and play with the following lines of codes to learn syntax rules of python programming.\n",
    "\n",
    "- terminal --> new terminal, then type py "
   ]
  },
  {
   "cell_type": "markdown",
   "metadata": {},
   "source": [
    "#### <a id='toc1_1_5_1_'></a>[python syntax basics](#toc0_)"
   ]
  },
  {
   "cell_type": "markdown",
   "metadata": {},
   "source": [
    "### Creating variables\n",
    "\n",
    "Variables are containers for storing data values.\n",
    "\n",
    "Python has no command for declaring a variable.\n",
    "\n",
    "A variable is created the moment you first assign a value to it.\n"
   ]
  },
  {
   "cell_type": "code",
   "execution_count": 5,
   "metadata": {},
   "outputs": [
    {
     "name": "stdout",
     "output_type": "stream",
     "text": [
      "Dagmawi\n",
      "Hej Dagmawi\n",
      "Apple banana\n"
     ]
    }
   ],
   "source": [
    "my_name = 'Dagmawi'\n",
    "print(my_name)\n",
    "\n",
    "print('Hej ' + my_name)\n",
    "\n",
    "item = 'banana'\n",
    "Item = 'Apple'\n",
    "\n",
    "print(Item, item)"
   ]
  },
  {
   "cell_type": "markdown",
   "metadata": {},
   "source": [
    "### Data types\n",
    "\n",
    "In programming, data type is an important concept.\n",
    "\n",
    "Variables can store data of different types, and different types can do different things.\n",
    "\n",
    "These can be integers, strings, boolean, and lists"
   ]
  },
  {
   "cell_type": "code",
   "execution_count": 16,
   "metadata": {},
   "outputs": [
    {
     "name": "stdout",
     "output_type": "stream",
     "text": [
      "['ethiopia', 'denmark', 'UK', 25, False]\n"
     ]
    }
   ],
   "source": [
    "integer = 512\n",
    "word ='habesha'\n",
    "isHappy = True \n",
    "\n",
    "list = ['ethiopia','denmark','UK', 25, False]\n",
    "print(list)"
   ]
  },
  {
   "cell_type": "code",
   "execution_count": 10,
   "metadata": {},
   "outputs": [
    {
     "name": "stdout",
     "output_type": "stream",
     "text": [
      "1.5\n",
      "(1+2j)\n"
     ]
    }
   ],
   "source": [
    "# more data types\n",
    "# float\n",
    "x = 1.5\n",
    "# complex numbers \n",
    "y = 1 + 2j\n",
    "\n",
    "print(x)\n",
    "print(y)"
   ]
  },
  {
   "cell_type": "markdown",
   "metadata": {},
   "source": [
    "Most of the time, it might be usefull to change between data types. This is also known as Casting.  "
   ]
  },
  {
   "cell_type": "code",
   "execution_count": 11,
   "metadata": {},
   "outputs": [
    {
     "name": "stdout",
     "output_type": "stream",
     "text": [
      "habesha512\n",
      "habesha 512\n",
      "20\n"
     ]
    }
   ],
   "source": [
    "print (word +  str(integer))\n",
    "\n",
    "print (word + ' ' + str(integer))\n",
    "\n",
    "string_number = '10'\n",
    "\n",
    "print (10 + int(string_number))\n"
   ]
  },
  {
   "cell_type": "markdown",
   "metadata": {},
   "source": [
    "You can get the data type of a variable"
   ]
  },
  {
   "cell_type": "code",
   "execution_count": null,
   "metadata": {},
   "outputs": [],
   "source": [
    "x = 1 \n",
    "y = 'Solomon'\n",
    "print (type(x))\n",
    "print (type(y))"
   ]
  },
  {
   "cell_type": "markdown",
   "metadata": {},
   "source": [
    "### Maths"
   ]
  },
  {
   "cell_type": "code",
   "execution_count": 22,
   "metadata": {},
   "outputs": [
    {
     "name": "stdout",
     "output_type": "stream",
     "text": [
      "15\n",
      "5\n",
      "50\n",
      "2.0\n",
      "100000\n"
     ]
    }
   ],
   "source": [
    "a = 10\n",
    "b = 5\n",
    "\n",
    "addition = a + b\n",
    "subtraction = a - b\n",
    "multiplication = a * b\n",
    "division = a/b\n",
    "exp_power = a**b\n",
    "\n",
    "print(addition)\n",
    "print(subtraction)\n",
    "print(multiplication)\n",
    "print(division)\n",
    "print(exp_power)\n"
   ]
  },
  {
   "cell_type": "markdown",
   "metadata": {},
   "source": [
    "### If statements"
   ]
  },
  {
   "cell_type": "markdown",
   "metadata": {},
   "source": [
    "This are implemented using if, elif and else statements."
   ]
  },
  {
   "cell_type": "code",
   "execution_count": 24,
   "metadata": {},
   "outputs": [
    {
     "name": "stdout",
     "output_type": "stream",
     "text": [
      "you are still young\n",
      "programming is going to be fun for you\n"
     ]
    }
   ],
   "source": [
    "# type your age\n",
    "age = 12\n",
    "\n",
    "\n",
    "if age > 50:\n",
    "    print('you are getting old')\n",
    "elif age > 19:\n",
    "    print('you are no longer teenager')\n",
    "else:\n",
    "    print('you are still young')\n",
    "\n",
    "\n",
    "#  do you like maths\n",
    "my_answer = True \n",
    "\n",
    "if my_answer:\n",
    "    print('programming is going to be fun for you')\n",
    "else:\n",
    "    print('you will start liking maths more through programming')\n",
    "\n"
   ]
  },
  {
   "cell_type": "code",
   "execution_count": 9,
   "metadata": {},
   "outputs": [
    {
     "name": "stdout",
     "output_type": "stream",
     "text": [
      "not equal\n"
     ]
    }
   ],
   "source": [
    "# let us combine maths with logical conditions\n",
    "a = 6\n",
    "b = 9\n",
    "if a == b:\n",
    "    print ('Equal')\n",
    "elif a != b:\n",
    "    print ('not equal')\n",
    "elif a < b: \n",
    "    print ('less than')\n",
    "elif a <= b:\n",
    "    print ('less than or equal to')\n",
    "elif a > b:\n",
    "    print ('greater than ')\n",
    "elif a >= b:\n",
    "    print ('greater than or equal to')\n",
    "else:\n",
    "    print ('unknown condition')"
   ]
  },
  {
   "cell_type": "markdown",
   "metadata": {},
   "source": [
    "### For loop"
   ]
  },
  {
   "cell_type": "markdown",
   "metadata": {},
   "source": [
    "A for loop is used for iterating over a sequence (that is either a list, a tuple, a dictionary, a set, or a string)."
   ]
  },
  {
   "cell_type": "code",
   "execution_count": 25,
   "metadata": {},
   "outputs": [
    {
     "name": "stdout",
     "output_type": "stream",
     "text": [
      "Hello 0\n",
      "Hello 1\n",
      "Hello 2\n"
     ]
    }
   ],
   "source": [
    "for i in range(3):\n",
    "    print('Hello',i) "
   ]
  },
  {
   "cell_type": "code",
   "execution_count": 26,
   "metadata": {},
   "outputs": [
    {
     "name": "stdout",
     "output_type": "stream",
     "text": [
      "Dagmawi\n",
      "Abe\n",
      "Belay\n"
     ]
    }
   ],
   "source": [
    "name_list = ['Dagmawi','Abe','Belay']\n",
    "\n",
    "for name in name_list:\n",
    "    print(name)"
   ]
  },
  {
   "cell_type": "markdown",
   "metadata": {},
   "source": [
    "### while loop"
   ]
  },
  {
   "cell_type": "code",
   "execution_count": 28,
   "metadata": {},
   "outputs": [
    {
     "name": "stdout",
     "output_type": "stream",
     "text": [
      "0\n",
      "1\n",
      "2\n",
      "3\n",
      "4\n"
     ]
    }
   ],
   "source": [
    "i = 0\n",
    "\n",
    "while i < 5:    \n",
    "    print (i)\n",
    "    i = i + 1"
   ]
  },
  {
   "cell_type": "code",
   "execution_count": 3,
   "metadata": {},
   "outputs": [
    {
     "name": "stdout",
     "output_type": "stream",
     "text": [
      "your age is:56\n"
     ]
    }
   ],
   "source": [
    "while True:\n",
    "    user_input = input('please enter your age')\n",
    "\n",
    "    if user_input == '0':\n",
    "        print('Invalid age')\n",
    "        break\n",
    "    else:\n",
    "        print('your age is:' + user_input)\n",
    "        break"
   ]
  },
  {
   "cell_type": "markdown",
   "metadata": {},
   "source": [
    "### keywords"
   ]
  },
  {
   "cell_type": "markdown",
   "metadata": {},
   "source": [
    "All of the above purple (depending on your compiler) highlighted words are call key words. These are words that are built to perform a certain task using built in routines. examples are while, if, elif, else, break ...."
   ]
  },
  {
   "cell_type": "markdown",
   "metadata": {},
   "source": [
    "### Functions"
   ]
  },
  {
   "cell_type": "markdown",
   "metadata": {},
   "source": [
    "A function is a block of code which only runs when it is called.\n",
    "\n",
    "You can pass data, known as parameters, into a function.\n",
    "\n",
    "A function can return data as a result.\n",
    "\n",
    "Allow us to use the same code several times without writing it again and again. \n",
    "\n",
    "In Python a function is defined using the `def` keyword:"
   ]
  },
  {
   "cell_type": "code",
   "execution_count": 4,
   "metadata": {},
   "outputs": [
    {
     "name": "stdout",
     "output_type": "stream",
     "text": [
      "Hey there Dagmawi\n",
      "Hey there Belay\n"
     ]
    }
   ],
   "source": [
    "def say_hello(name):\n",
    "    print('Hey there', name)\n",
    "\n",
    "say_hello('Dagmawi')    \n",
    "say_hello('Belay')"
   ]
  },
  {
   "cell_type": "code",
   "execution_count": null,
   "metadata": {},
   "outputs": [],
   "source": [
    "def get_internet():\n",
    "    pass\n",
    "\n",
    "def run_game():\n",
    "    pass"
   ]
  },
  {
   "cell_type": "markdown",
   "metadata": {},
   "source": [
    "### Try and exception "
   ]
  },
  {
   "cell_type": "code",
   "execution_count": 6,
   "metadata": {},
   "outputs": [
    {
     "name": "stdout",
     "output_type": "stream",
     "text": [
      "please enter a valid number\n"
     ]
    }
   ],
   "source": [
    "number = input('please proveide a number >>')\n",
    "\n",
    "try:\n",
    "    print(8 + int(number))\n",
    "\n",
    "except:\n",
    "    print('That is not a valid number')\n"
   ]
  },
  {
   "cell_type": "markdown",
   "metadata": {},
   "source": [
    "### Additional Remarks:\n",
    "#### White spaces or tab (indentation) is required."
   ]
  },
  {
   "cell_type": "markdown",
   "metadata": {},
   "source": []
  },
  {
   "cell_type": "code",
   "execution_count": 21,
   "metadata": {},
   "outputs": [
    {
     "name": "stdout",
     "output_type": "stream",
     "text": [
      "Hello from our function\n"
     ]
    }
   ],
   "source": [
    "# defining functions\n",
    "def our_function():\n",
    "    print('Hello from our function')\n",
    "\n",
    "# calling the function\n",
    "our_function()"
   ]
  },
  {
   "cell_type": "markdown",
   "metadata": {},
   "source": [
    "#### Comments: \n",
    "    - to help us remember what we have written. It makes collaboration easier. It is a good practice to implement."
   ]
  },
  {
   "cell_type": "code",
   "execution_count": 20,
   "metadata": {},
   "outputs": [
    {
     "data": {
      "text/plain": [
       "'\\nMultiple line comment can be written like this.\\nIt is typically used for providing descriptions of functions and classes.\\nWe will discuss functions and classes later on.\\n'"
      ]
     },
     "execution_count": 20,
     "metadata": {},
     "output_type": "execute_result"
    }
   ],
   "source": [
    "# Here is a single line comment\n",
    "\n",
    "\"\"\"\n",
    "Multiple line comment can be written like this.\n",
    "It is typically used for providing descriptions of functions and classes.\n",
    "We will discuss functions and classes later on.\n",
    "\"\"\""
   ]
  }
 ],
 "metadata": {
  "kernelspec": {
   "display_name": ".venv",
   "language": "python",
   "name": "python3"
  },
  "language_info": {
   "codemirror_mode": {
    "name": "ipython",
    "version": 3
   },
   "file_extension": ".py",
   "mimetype": "text/x-python",
   "name": "python",
   "nbconvert_exporter": "python",
   "pygments_lexer": "ipython3",
   "version": "3.11.4"
  }
 },
 "nbformat": 4,
 "nbformat_minor": 2
}
